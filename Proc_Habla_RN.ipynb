{
  "nbformat": 4,
  "nbformat_minor": 0,
  "metadata": {
    "colab": {
      "provenance": [],
      "mount_file_id": "1_Vbt2uSkaGfBLvQ_tHq9i8ArgqOfvSNo",
      "authorship_tag": "ABX9TyMP6BH1eTF5gD+4KOUAC4Qd",
      "include_colab_link": true
    },
    "kernelspec": {
      "name": "python3",
      "display_name": "Python 3"
    },
    "language_info": {
      "name": "python"
    }
  },
  "cells": [
    {
      "cell_type": "markdown",
      "metadata": {
        "id": "view-in-github",
        "colab_type": "text"
      },
      "source": [
        "<a href=\"https://colab.research.google.com/github/samuelkanneman/GoogleColab_Kanneman/blob/main/Proc_Habla_RN.ipynb\" target=\"_parent\"><img src=\"https://colab.research.google.com/assets/colab-badge.svg\" alt=\"Open In Colab\"/></a>"
      ]
    },
    {
      "cell_type": "markdown",
      "source": [
        "Importar Librerias"
      ],
      "metadata": {
        "id": "Iu7vfoYXxm2J"
      }
    },
    {
      "cell_type": "code",
      "source": [
        "!pip install nltk\n",
        "!pip install unidecode"
      ],
      "metadata": {
        "colab": {
          "base_uri": "https://localhost:8080/"
        },
        "collapsed": true,
        "id": "WtLPhNGfABbI",
        "outputId": "5cea4bc6-273b-47ba-eab3-bb0ca245bd76"
      },
      "execution_count": 37,
      "outputs": [
        {
          "output_type": "stream",
          "name": "stdout",
          "text": [
            "Requirement already satisfied: nltk in /usr/local/lib/python3.10/dist-packages (3.8.1)\n",
            "Requirement already satisfied: click in /usr/local/lib/python3.10/dist-packages (from nltk) (8.1.7)\n",
            "Requirement already satisfied: joblib in /usr/local/lib/python3.10/dist-packages (from nltk) (1.4.2)\n",
            "Requirement already satisfied: regex>=2021.8.3 in /usr/local/lib/python3.10/dist-packages (from nltk) (2023.12.25)\n",
            "Requirement already satisfied: tqdm in /usr/local/lib/python3.10/dist-packages (from nltk) (4.66.4)\n",
            "Collecting unidecode\n",
            "  Downloading Unidecode-1.3.8-py3-none-any.whl (235 kB)\n",
            "\u001b[2K     \u001b[90m━━━━━━━━━━━━━━━━━━━━━━━━━━━━━━━━━━━━━━━━\u001b[0m \u001b[32m235.5/235.5 kB\u001b[0m \u001b[31m5.6 MB/s\u001b[0m eta \u001b[36m0:00:00\u001b[0m\n",
            "\u001b[?25hInstalling collected packages: unidecode\n",
            "Successfully installed unidecode-1.3.8\n"
          ]
        }
      ]
    },
    {
      "cell_type": "code",
      "source": [
        "from keras.models import Sequential\n",
        "from keras.layers import Dense, Dropout\n",
        "from sklearn.feature_extraction.text import TfidfVectorizer\n",
        "from sklearn.model_selection import train_test_split\n",
        "import nltk\n",
        "nltk.download('stopwords')\n",
        "nltk.download('punkt')\n",
        "nltk.download('wordnet')\n",
        "from nltk.corpus import stopwords\n",
        "from sklearn.ensemble import RandomForestClassifier\n",
        "from sklearn.metrics import accuracy_score, classification_report, confusion_matrix\n",
        "import numpy as np\n",
        "import re\n",
        "from imblearn.under_sampling import RandomUnderSampler\n",
        "from nltk.stem import WordNetLemmatizer\n",
        "from unidecode import unidecode\n",
        "from sklearn.feature_extraction.text import TfidfVectorizer\n",
        "import numpy as np"
      ],
      "metadata": {
        "colab": {
          "base_uri": "https://localhost:8080/"
        },
        "id": "NxFO-fxCxsQX",
        "outputId": "71ab94b6-c6d2-465b-da8c-d9ee343b3512"
      },
      "execution_count": 51,
      "outputs": [
        {
          "output_type": "stream",
          "name": "stderr",
          "text": [
            "[nltk_data] Downloading package stopwords to /root/nltk_data...\n",
            "[nltk_data]   Package stopwords is already up-to-date!\n",
            "[nltk_data] Downloading package punkt to /root/nltk_data...\n",
            "[nltk_data]   Package punkt is already up-to-date!\n",
            "[nltk_data] Downloading package wordnet to /root/nltk_data...\n",
            "[nltk_data]   Package wordnet is already up-to-date!\n"
          ]
        }
      ]
    },
    {
      "cell_type": "markdown",
      "source": [
        "Cargar Documento"
      ],
      "metadata": {
        "id": "z74T6Xrox3Yl"
      }
    },
    {
      "cell_type": "code",
      "source": [
        "import os\n",
        "\n",
        "# Definir la ruta del archivo PDF en Google Drive\n",
        "libro = '/content/drive/MyDrive/Colab Notebooks/24 horas en la vida de una mujer.txt'\n",
        "\n",
        "# Verificar si la ruta existe\n",
        "if os.path.exists(libro):\n",
        "    print(\"El archivo existe y la ruta es correcta.\")\n",
        "else:\n",
        "    print(\"El archivo no existe o la ruta es incorrecta.\")"
      ],
      "metadata": {
        "colab": {
          "base_uri": "https://localhost:8080/"
        },
        "id": "PYcNqM52x57r",
        "outputId": "6fcca82a-f190-42e3-9176-9d5df40801fc"
      },
      "execution_count": 40,
      "outputs": [
        {
          "output_type": "stream",
          "name": "stdout",
          "text": [
            "El archivo existe y la ruta es correcta.\n"
          ]
        }
      ]
    },
    {
      "cell_type": "markdown",
      "source": [
        "#Limpieza de texto"
      ],
      "metadata": {
        "id": "PzVfYldlArrv"
      }
    },
    {
      "cell_type": "code",
      "source": [
        "# Función de limpieza de texto\n",
        "def limpiar_texto(texto):\n",
        "    texto = texto.lower()  # Convertir a minúsculas\n",
        "    texto = re.sub(r'\\W', ' ', texto)  # Eliminar caracteres especiales\n",
        "    texto = re.sub(r'\\s+', ' ', texto)  # Eliminar espacios extra\n",
        "    return texto"
      ],
      "metadata": {
        "id": "u5MLemWkAv5K"
      },
      "execution_count": 41,
      "outputs": []
    },
    {
      "cell_type": "code",
      "source": [
        "# Función para lematizar texto\n",
        "def lematizar_texto(tokens):\n",
        "    lemmatizer = WordNetLemmatizer()\n",
        "    tokens_lemmatizados = [lemmatizer.lemmatize(token) for token in tokens]\n",
        "    return tokens_lemmatizados"
      ],
      "metadata": {
        "id": "5UlQuH6wAwnD"
      },
      "execution_count": 42,
      "outputs": []
    },
    {
      "cell_type": "code",
      "source": [
        "# Leer y limpiar el texto\n",
        "with open(libro, 'r') as f:\n",
        "    texto = f.read()"
      ],
      "metadata": {
        "id": "MjDbscxzzQKy"
      },
      "execution_count": 44,
      "outputs": []
    },
    {
      "cell_type": "code",
      "source": [
        "texto_limpio = limpiar_texto(texto)\n",
        "\n",
        "# Tokenización\n",
        "tokens = nltk.word_tokenize(texto_limpio)"
      ],
      "metadata": {
        "id": "b2OdBKh8BACO"
      },
      "execution_count": 45,
      "outputs": []
    },
    {
      "cell_type": "code",
      "source": [
        "print('Cantidad de tokens unicos',len(tokens))"
      ],
      "metadata": {
        "colab": {
          "base_uri": "https://localhost:8080/"
        },
        "id": "o98hcwFV1WVA",
        "outputId": "f939481a-de3f-4f18-f9b8-abfbd361e3d7"
      },
      "execution_count": 46,
      "outputs": [
        {
          "output_type": "stream",
          "name": "stdout",
          "text": [
            "Cantidad de tokens unicos 22637\n"
          ]
        }
      ]
    },
    {
      "cell_type": "markdown",
      "source": [
        "Fraccion de Stopwords en un corpus"
      ],
      "metadata": {
        "id": "HOeKRNtS0VIg"
      }
    },
    {
      "cell_type": "code",
      "source": [
        "def stopwords_percentage(text):\n",
        "  '''\n",
        "  aqui usamos un recurso léxico (stopwords) para filtrar un corpus\n",
        "  '''\n",
        "  stopwd = stopwords.words('spanish')\n",
        "  content = [w  for w in text if w.lower() not in stopwd]\n",
        "  return len(content)/len(text)\n",
        "\n",
        "stopwords_percentage(tokens)"
      ],
      "metadata": {
        "colab": {
          "base_uri": "https://localhost:8080/"
        },
        "id": "f-IP_Pam0TfO",
        "outputId": "9b44d8fa-8acc-4d2a-b7a5-0870bedeee2e"
      },
      "execution_count": 47,
      "outputs": [
        {
          "output_type": "execute_result",
          "data": {
            "text/plain": [
              "0.5240535406635155"
            ]
          },
          "metadata": {},
          "execution_count": 47
        }
      ]
    },
    {
      "cell_type": "markdown",
      "source": [
        "Limpieza de texto"
      ],
      "metadata": {
        "id": "fyl6xUU_yRKR"
      }
    },
    {
      "cell_type": "code",
      "source": [
        "# Eliminar stopwords\n",
        "stop_words = set(stopwords.words('spanish'))\n",
        "tokens_filtrados = [token for token in tokens if token not in stop_words]"
      ],
      "metadata": {
        "id": "KXd39bXpySmx"
      },
      "execution_count": 48,
      "outputs": []
    },
    {
      "cell_type": "code",
      "source": [
        "print('Cantidad de tokens sin stopwords',len(tokens_filtrados))"
      ],
      "metadata": {
        "colab": {
          "base_uri": "https://localhost:8080/"
        },
        "id": "iAmkby_61Q7o",
        "outputId": "66a6f17a-5211-40d4-c8a9-a4f5e3c4d587"
      },
      "execution_count": 49,
      "outputs": [
        {
          "output_type": "stream",
          "name": "stdout",
          "text": [
            "Cantidad de tokens sin stopwords 11863\n"
          ]
        }
      ]
    },
    {
      "cell_type": "markdown",
      "source": [
        "Lematización"
      ],
      "metadata": {
        "id": "udGKIUAwBhLb"
      }
    },
    {
      "cell_type": "code",
      "source": [
        "tokens_lemmatizados = lematizar_texto(tokens_filtrados)\n",
        "\n",
        "print('Cantidad de tokens únicos después de lematización:', len(set(tokens_lemmatizados)))"
      ],
      "metadata": {
        "colab": {
          "base_uri": "https://localhost:8080/"
        },
        "id": "pBgDd1jlBjil",
        "outputId": "b4fce142-67df-4c85-b9ae-798c4fc95925"
      },
      "execution_count": 50,
      "outputs": [
        {
          "output_type": "stream",
          "name": "stdout",
          "text": [
            "Cantidad de tokens únicos después de lematización: 4933\n"
          ]
        }
      ]
    },
    {
      "cell_type": "markdown",
      "source": [
        "#Vectorizacion"
      ],
      "metadata": {
        "id": "qQQF-QpOxvBY"
      }
    },
    {
      "cell_type": "markdown",
      "source": [
        "Conjunto de Etiquetas"
      ],
      "metadata": {
        "id": "Y_e6BCSyz9ob"
      }
    },
    {
      "cell_type": "code",
      "source": [
        "etiquetas_sentimiento = {\n",
        "    'bueno': 1,\n",
        "    'feliz': 1,\n",
        "    'contento':1,\n",
        "    'amable':1,\n",
        "    'alegre': 1,\n",
        "    'satisfecho': 1,\n",
        "    'irritado':0,\n",
        "    'mal': 0,\n",
        "    'triste': 0,\n",
        "    'malo':0,\n",
        "    'enojado':0,\n",
        "    'furioso': 0,\n",
        "    'descontento': 0\n",
        "}\n",
        "\n",
        "# Filtrar tokens y crear etiquetas\n",
        "tokens_filtrados_etiquetados = [(token, etiquetas_sentimiento[token]) for token in tokens_lemmatizados if token in etiquetas_sentimiento]\n",
        "\n",
        "# Separar tokens y etiquetas\n",
        "tokens_finales, y = zip(*tokens_filtrados_etiquetados)\n",
        "tokens_finales = list(tokens_finales)\n",
        "y = np.array(y)"
      ],
      "metadata": {
        "id": "Fb9tJ57NZGMO"
      },
      "execution_count": 52,
      "outputs": []
    },
    {
      "cell_type": "code",
      "source": [
        "# Vectorización TF-IDF\n",
        "vectorizer = TfidfVectorizer()\n",
        "X = vectorizer.fit_transform(tokens_finales)\n",
        "\n",
        "print('Tamaño de la matriz TF-IDF:', X.shape)"
      ],
      "metadata": {
        "colab": {
          "base_uri": "https://localhost:8080/"
        },
        "collapsed": true,
        "id": "mehEsZUgxwyH",
        "outputId": "e2ef1c87-b794-4c5f-e58c-fc6008b30304"
      },
      "execution_count": 53,
      "outputs": [
        {
          "output_type": "stream",
          "name": "stdout",
          "text": [
            "Tamaño de la matriz TF-IDF: (11, 6)\n"
          ]
        }
      ]
    },
    {
      "cell_type": "markdown",
      "source": [
        "#Construcción del Modelo de Red Neuronal"
      ],
      "metadata": {
        "id": "pvqgKhTGDbnS"
      }
    },
    {
      "cell_type": "markdown",
      "source": [
        "Dividir los datos en conjuntos de entrenamiento y prueba"
      ],
      "metadata": {
        "id": "dhKczYuKg__A"
      }
    },
    {
      "cell_type": "code",
      "source": [
        "# División en conjuntos de entrenamiento y prueba\n",
        "X_train, X_test, y_train, y_test = train_test_split(X, y, test_size=0.2, random_state=42)"
      ],
      "metadata": {
        "id": "Rcfei2HN0P3C"
      },
      "execution_count": 54,
      "outputs": []
    },
    {
      "cell_type": "markdown",
      "source": [
        "Normalizacion"
      ],
      "metadata": {
        "id": "M7YZ5LP_DmnV"
      }
    },
    {
      "cell_type": "code",
      "source": [
        "from sklearn.preprocessing import MaxAbsScaler\n",
        "# Normalización de los datos de entrada\n",
        "scaler = MaxAbsScaler()\n",
        "X_train_normalized = scaler.fit_transform(X_train.toarray())\n",
        "X_test_normalized = scaler.transform(X_test.toarray())"
      ],
      "metadata": {
        "id": "TW0vnWf4DlhZ"
      },
      "execution_count": 56,
      "outputs": []
    },
    {
      "cell_type": "markdown",
      "source": [
        "Aquitectura del modelo"
      ],
      "metadata": {
        "id": "ghOtbDVY1D0i"
      }
    },
    {
      "cell_type": "code",
      "execution_count": 57,
      "metadata": {
        "colab": {
          "base_uri": "https://localhost:8080/"
        },
        "id": "yrf-gXBMxf5-",
        "outputId": "fd8f6f72-48dd-4af1-d4ab-eaf975cd8ffa"
      },
      "outputs": [
        {
          "output_type": "stream",
          "name": "stdout",
          "text": [
            "Model: \"sequential\"\n",
            "_________________________________________________________________\n",
            " Layer (type)                Output Shape              Param #   \n",
            "=================================================================\n",
            " dense (Dense)               (None, 128)               896       \n",
            "                                                                 \n",
            " dense_1 (Dense)             (None, 64)                8256      \n",
            "                                                                 \n",
            " dense_2 (Dense)             (None, 1)                 65        \n",
            "                                                                 \n",
            "=================================================================\n",
            "Total params: 9217 (36.00 KB)\n",
            "Trainable params: 9217 (36.00 KB)\n",
            "Non-trainable params: 0 (0.00 Byte)\n",
            "_________________________________________________________________\n"
          ]
        }
      ],
      "source": [
        "# Definir la arquitectura del modelo\n",
        "model = Sequential()\n",
        "model.add(Dense(128, input_shape=(X_train_normalized.shape[1],), activation='relu'))\n",
        "model.add(Dense(64, activation='relu'))\n",
        "model.add(Dense(1, activation='sigmoid'))  # Usar 'sigmoid' para clasificación binaria\n",
        "\n",
        "# Compilar el modelo con la función de pérdida binary_crossentropy\n",
        "model.compile(loss='binary_crossentropy', optimizer='adam', metrics=['accuracy'])\n",
        "\n",
        "# Resumen del modelo\n",
        "model.summary()"
      ]
    },
    {
      "cell_type": "markdown",
      "source": [
        "#Entrenamiento y Evaluación"
      ],
      "metadata": {
        "id": "hxTkZIIr1JKu"
      }
    },
    {
      "cell_type": "markdown",
      "source": [
        "Entranamiento"
      ],
      "metadata": {
        "id": "Hjbqqsj0GA03"
      }
    },
    {
      "cell_type": "code",
      "source": [
        "# Entrenar el modelo con un tamaño de batch más grande y más épocas\n",
        "history = model.fit(X_train_normalized, y_train, epochs=50, batch_size=128, validation_split=0.2)\n",
        "\n",
        "# Evaluar el modelo\n",
        "loss, accuracy = model.evaluate(X_test_normalized, y_test)\n",
        "print('Accuracy:', accuracy)"
      ],
      "metadata": {
        "colab": {
          "base_uri": "https://localhost:8080/"
        },
        "collapsed": true,
        "id": "Mey6TYXO1OHk",
        "outputId": "9b85783c-539c-4dcd-d824-af7e5c39dbdd"
      },
      "execution_count": 58,
      "outputs": [
        {
          "output_type": "stream",
          "name": "stdout",
          "text": [
            "Epoch 1/50\n",
            "1/1 [==============================] - 2s 2s/step - loss: 0.6379 - accuracy: 0.6667 - val_loss: 0.6808 - val_accuracy: 0.5000\n",
            "Epoch 2/50\n",
            "1/1 [==============================] - 0s 73ms/step - loss: 0.6153 - accuracy: 1.0000 - val_loss: 0.6798 - val_accuracy: 0.5000\n",
            "Epoch 3/50\n",
            "1/1 [==============================] - 0s 63ms/step - loss: 0.5936 - accuracy: 1.0000 - val_loss: 0.6805 - val_accuracy: 0.5000\n",
            "Epoch 4/50\n",
            "1/1 [==============================] - 0s 80ms/step - loss: 0.5728 - accuracy: 1.0000 - val_loss: 0.6817 - val_accuracy: 0.5000\n",
            "Epoch 5/50\n",
            "1/1 [==============================] - 0s 74ms/step - loss: 0.5520 - accuracy: 1.0000 - val_loss: 0.6827 - val_accuracy: 0.5000\n",
            "Epoch 6/50\n",
            "1/1 [==============================] - 0s 72ms/step - loss: 0.5321 - accuracy: 1.0000 - val_loss: 0.6845 - val_accuracy: 0.5000\n",
            "Epoch 7/50\n",
            "1/1 [==============================] - 0s 84ms/step - loss: 0.5127 - accuracy: 1.0000 - val_loss: 0.6867 - val_accuracy: 0.5000\n",
            "Epoch 8/50\n",
            "1/1 [==============================] - 0s 97ms/step - loss: 0.4937 - accuracy: 1.0000 - val_loss: 0.6892 - val_accuracy: 0.5000\n",
            "Epoch 9/50\n",
            "1/1 [==============================] - 0s 110ms/step - loss: 0.4747 - accuracy: 1.0000 - val_loss: 0.6918 - val_accuracy: 0.5000\n",
            "Epoch 10/50\n",
            "1/1 [==============================] - 0s 76ms/step - loss: 0.4557 - accuracy: 1.0000 - val_loss: 0.6954 - val_accuracy: 0.5000\n",
            "Epoch 11/50\n",
            "1/1 [==============================] - 0s 85ms/step - loss: 0.4370 - accuracy: 1.0000 - val_loss: 0.7002 - val_accuracy: 0.5000\n",
            "Epoch 12/50\n",
            "1/1 [==============================] - 0s 80ms/step - loss: 0.4186 - accuracy: 1.0000 - val_loss: 0.7064 - val_accuracy: 0.5000\n",
            "Epoch 13/50\n",
            "1/1 [==============================] - 0s 72ms/step - loss: 0.4005 - accuracy: 1.0000 - val_loss: 0.7136 - val_accuracy: 0.5000\n",
            "Epoch 14/50\n",
            "1/1 [==============================] - 0s 96ms/step - loss: 0.3827 - accuracy: 1.0000 - val_loss: 0.7216 - val_accuracy: 0.5000\n",
            "Epoch 15/50\n",
            "1/1 [==============================] - 0s 86ms/step - loss: 0.3650 - accuracy: 1.0000 - val_loss: 0.7300 - val_accuracy: 0.5000\n",
            "Epoch 16/50\n",
            "1/1 [==============================] - 0s 49ms/step - loss: 0.3478 - accuracy: 1.0000 - val_loss: 0.7394 - val_accuracy: 0.5000\n",
            "Epoch 17/50\n",
            "1/1 [==============================] - 0s 49ms/step - loss: 0.3307 - accuracy: 1.0000 - val_loss: 0.7499 - val_accuracy: 0.5000\n",
            "Epoch 18/50\n",
            "1/1 [==============================] - 0s 40ms/step - loss: 0.3140 - accuracy: 1.0000 - val_loss: 0.7614 - val_accuracy: 0.5000\n",
            "Epoch 19/50\n",
            "1/1 [==============================] - 0s 58ms/step - loss: 0.2977 - accuracy: 1.0000 - val_loss: 0.7745 - val_accuracy: 0.5000\n",
            "Epoch 20/50\n",
            "1/1 [==============================] - 0s 39ms/step - loss: 0.2819 - accuracy: 1.0000 - val_loss: 0.7887 - val_accuracy: 0.5000\n",
            "Epoch 21/50\n",
            "1/1 [==============================] - 0s 38ms/step - loss: 0.2665 - accuracy: 1.0000 - val_loss: 0.8043 - val_accuracy: 0.5000\n",
            "Epoch 22/50\n",
            "1/1 [==============================] - 0s 42ms/step - loss: 0.2515 - accuracy: 1.0000 - val_loss: 0.8211 - val_accuracy: 0.5000\n",
            "Epoch 23/50\n",
            "1/1 [==============================] - 0s 39ms/step - loss: 0.2371 - accuracy: 1.0000 - val_loss: 0.8388 - val_accuracy: 0.5000\n",
            "Epoch 24/50\n",
            "1/1 [==============================] - 0s 56ms/step - loss: 0.2231 - accuracy: 1.0000 - val_loss: 0.8574 - val_accuracy: 0.5000\n",
            "Epoch 25/50\n",
            "1/1 [==============================] - 0s 43ms/step - loss: 0.2096 - accuracy: 1.0000 - val_loss: 0.8771 - val_accuracy: 0.5000\n",
            "Epoch 26/50\n",
            "1/1 [==============================] - 0s 44ms/step - loss: 0.1966 - accuracy: 1.0000 - val_loss: 0.8978 - val_accuracy: 0.5000\n",
            "Epoch 27/50\n",
            "1/1 [==============================] - 0s 70ms/step - loss: 0.1842 - accuracy: 1.0000 - val_loss: 0.9194 - val_accuracy: 0.5000\n",
            "Epoch 28/50\n",
            "1/1 [==============================] - 0s 58ms/step - loss: 0.1722 - accuracy: 1.0000 - val_loss: 0.9422 - val_accuracy: 0.5000\n",
            "Epoch 29/50\n",
            "1/1 [==============================] - 0s 38ms/step - loss: 0.1608 - accuracy: 1.0000 - val_loss: 0.9660 - val_accuracy: 0.5000\n",
            "Epoch 30/50\n",
            "1/1 [==============================] - 0s 37ms/step - loss: 0.1499 - accuracy: 1.0000 - val_loss: 0.9906 - val_accuracy: 0.5000\n",
            "Epoch 31/50\n",
            "1/1 [==============================] - 0s 58ms/step - loss: 0.1396 - accuracy: 1.0000 - val_loss: 1.0161 - val_accuracy: 0.5000\n",
            "Epoch 32/50\n",
            "1/1 [==============================] - 0s 56ms/step - loss: 0.1299 - accuracy: 1.0000 - val_loss: 1.0423 - val_accuracy: 0.5000\n",
            "Epoch 33/50\n",
            "1/1 [==============================] - 0s 37ms/step - loss: 0.1207 - accuracy: 1.0000 - val_loss: 1.0692 - val_accuracy: 0.5000\n",
            "Epoch 34/50\n",
            "1/1 [==============================] - 0s 55ms/step - loss: 0.1121 - accuracy: 1.0000 - val_loss: 1.0968 - val_accuracy: 0.5000\n",
            "Epoch 35/50\n",
            "1/1 [==============================] - 0s 39ms/step - loss: 0.1039 - accuracy: 1.0000 - val_loss: 1.1249 - val_accuracy: 0.5000\n",
            "Epoch 36/50\n",
            "1/1 [==============================] - 0s 39ms/step - loss: 0.0964 - accuracy: 1.0000 - val_loss: 1.1534 - val_accuracy: 0.5000\n",
            "Epoch 37/50\n",
            "1/1 [==============================] - 0s 57ms/step - loss: 0.0893 - accuracy: 1.0000 - val_loss: 1.1823 - val_accuracy: 0.5000\n",
            "Epoch 38/50\n",
            "1/1 [==============================] - 0s 49ms/step - loss: 0.0827 - accuracy: 1.0000 - val_loss: 1.2117 - val_accuracy: 0.5000\n",
            "Epoch 39/50\n",
            "1/1 [==============================] - 0s 65ms/step - loss: 0.0765 - accuracy: 1.0000 - val_loss: 1.2414 - val_accuracy: 0.5000\n",
            "Epoch 40/50\n",
            "1/1 [==============================] - 0s 47ms/step - loss: 0.0707 - accuracy: 1.0000 - val_loss: 1.2713 - val_accuracy: 0.5000\n",
            "Epoch 41/50\n",
            "1/1 [==============================] - 0s 63ms/step - loss: 0.0654 - accuracy: 1.0000 - val_loss: 1.3014 - val_accuracy: 0.5000\n",
            "Epoch 42/50\n",
            "1/1 [==============================] - 0s 43ms/step - loss: 0.0604 - accuracy: 1.0000 - val_loss: 1.3315 - val_accuracy: 0.5000\n",
            "Epoch 43/50\n",
            "1/1 [==============================] - 0s 64ms/step - loss: 0.0559 - accuracy: 1.0000 - val_loss: 1.3616 - val_accuracy: 0.5000\n",
            "Epoch 44/50\n",
            "1/1 [==============================] - 0s 42ms/step - loss: 0.0517 - accuracy: 1.0000 - val_loss: 1.3917 - val_accuracy: 0.5000\n",
            "Epoch 45/50\n",
            "1/1 [==============================] - 0s 62ms/step - loss: 0.0478 - accuracy: 1.0000 - val_loss: 1.4216 - val_accuracy: 0.5000\n",
            "Epoch 46/50\n",
            "1/1 [==============================] - 0s 44ms/step - loss: 0.0443 - accuracy: 1.0000 - val_loss: 1.4512 - val_accuracy: 0.5000\n",
            "Epoch 47/50\n",
            "1/1 [==============================] - 0s 45ms/step - loss: 0.0411 - accuracy: 1.0000 - val_loss: 1.4806 - val_accuracy: 0.5000\n",
            "Epoch 48/50\n",
            "1/1 [==============================] - 0s 47ms/step - loss: 0.0381 - accuracy: 1.0000 - val_loss: 1.5096 - val_accuracy: 0.5000\n",
            "Epoch 49/50\n",
            "1/1 [==============================] - 0s 75ms/step - loss: 0.0354 - accuracy: 1.0000 - val_loss: 1.5384 - val_accuracy: 0.5000\n",
            "Epoch 50/50\n",
            "1/1 [==============================] - 0s 51ms/step - loss: 0.0329 - accuracy: 1.0000 - val_loss: 1.5666 - val_accuracy: 0.5000\n",
            "1/1 [==============================] - 0s 33ms/step - loss: 0.8220 - accuracy: 0.6667\n",
            "Accuracy: 0.6666666865348816\n"
          ]
        }
      ]
    },
    {
      "cell_type": "markdown",
      "source": [
        "Matiz de Confusion"
      ],
      "metadata": {
        "id": "PaGntrQa7sZ8"
      }
    },
    {
      "cell_type": "code",
      "source": [
        "from sklearn.metrics import confusion_matrix, roc_curve, auc\n",
        "import matplotlib.pyplot as plt\n",
        "\n",
        "# Realizar predicciones\n",
        "y_pred = model.predict(X_test_normalized)\n",
        "\n",
        "# Convertir las predicciones a etiquetas binarias\n",
        "y_pred_binary = (y_pred > 0.5).astype(int)\n",
        "\n",
        "# Calcular la matriz de confusión\n",
        "conf_matrix = confusion_matrix(y_test, y_pred_binary)\n",
        "\n",
        "# Mostrar la matriz de confusión\n",
        "print(\"Matriz de Confusión:\")\n",
        "print(conf_matrix)"
      ],
      "metadata": {
        "colab": {
          "base_uri": "https://localhost:8080/"
        },
        "id": "JN_5tGYw7xc7",
        "outputId": "876b3791-1c1e-4dd1-8ffe-effa2cb4fb33"
      },
      "execution_count": 59,
      "outputs": [
        {
          "output_type": "stream",
          "name": "stdout",
          "text": [
            "1/1 [==============================] - 0s 106ms/step\n",
            "Matriz de Confusión:\n",
            "[[0 1]\n",
            " [0 2]]\n"
          ]
        }
      ]
    },
    {
      "cell_type": "markdown",
      "source": [
        "Curva ROC"
      ],
      "metadata": {
        "id": "uEjjIkuY71yl"
      }
    },
    {
      "cell_type": "code",
      "source": [
        "# Calcular la tasa de verdaderos positivos (TPR) y la tasa de falsos positivos (FPR) para la curva ROC\n",
        "fpr, tpr, thresholds = roc_curve(y_test, y_pred)\n",
        "roc_auc = auc(fpr, tpr)\n",
        "\n",
        "# Graficar la curva ROC\n",
        "plt.figure()\n",
        "plt.plot(fpr, tpr, color='darkorange', lw=2, label='Curva ROC (area = %0.2f)' % roc_auc)\n",
        "plt.plot([0, 1], [0, 1], color='navy', lw=2, linestyle='--')\n",
        "plt.xlim([0.0, 1.0])\n",
        "plt.ylim([0.0, 1.05])\n",
        "plt.xlabel('Tasa de Falsos Positivos (FPR)')\n",
        "plt.ylabel('Tasa de Verdaderos Positivos (TPR)')\n",
        "plt.title('Curva ROC')\n",
        "plt.legend(loc=\"lower right\")\n",
        "plt.show()"
      ],
      "metadata": {
        "colab": {
          "base_uri": "https://localhost:8080/",
          "height": 472
        },
        "id": "VO0IdKvj7z0S",
        "outputId": "7874a652-df68-4f12-d5c2-8bf0d31869f1"
      },
      "execution_count": 60,
      "outputs": [
        {
          "output_type": "display_data",
          "data": {
            "text/plain": [
              "<Figure size 640x480 with 1 Axes>"
            ],
            "image/png": "[encoded data removed]"
          },
          "metadata": {}
        }
      ]
    },
    {
      "cell_type": "markdown",
      "source": [
        "#Revisión del Rendimiento del Modelo"
      ],
      "metadata": {
        "id": "57-_2uxOGJWd"
      }
    },
    {
      "cell_type": "markdown",
      "source": [
        "Ajuste de Hiperparámetros"
      ],
      "metadata": {
        "id": "AawvzoCSGTDy"
      }
    },
    {
      "cell_type": "code",
      "source": [
        "from keras.layers import Dropout\n",
        "\n",
        "# Definir la arquitectura del modelo con Dropout\n",
        "model = Sequential()\n",
        "model.add(Dense(128, input_shape=(X_train_normalized.shape[1],), activation='relu'))\n",
        "model.add(Dropout(0.5))  # Añadir Dropout con probabilidad de 0.5\n",
        "model.add(Dense(64, activation='relu'))\n",
        "model.add(Dropout(0.5))  # Añadir otro Dropout\n",
        "model.add(Dense(1, activation='sigmoid'))  # Usar 'sigmoid' para clasificación binaria\n"
      ],
      "metadata": {
        "id": "LMhmFqFeGLK0"
      },
      "execution_count": 61,
      "outputs": []
    },
    {
      "cell_type": "code",
      "source": [
        "# Compilar el modelo con una tasa de aprendizaje menor\n",
        "from keras.optimizers import Adam\n",
        "optimizer = Adam(learning_rate=0.0001)  # Reducir la tasa de aprendizaje\n",
        "model.compile(loss='binary_crossentropy', optimizer=optimizer, metrics=['accuracy'])\n",
        "# Resumen del modelo\n",
        "model.summary()"
      ],
      "metadata": {
        "colab": {
          "base_uri": "https://localhost:8080/"
        },
        "id": "uvPFKzo0Gurf",
        "outputId": "4539fd46-5c81-4ab6-e803-9a924bbe4474"
      },
      "execution_count": 63,
      "outputs": [
        {
          "output_type": "stream",
          "name": "stdout",
          "text": [
            "Model: \"sequential_1\"\n",
            "_________________________________________________________________\n",
            " Layer (type)                Output Shape              Param #   \n",
            "=================================================================\n",
            " dense_3 (Dense)             (None, 128)               896       \n",
            "                                                                 \n",
            " dropout (Dropout)           (None, 128)               0         \n",
            "                                                                 \n",
            " dense_4 (Dense)             (None, 64)                8256      \n",
            "                                                                 \n",
            " dropout_1 (Dropout)         (None, 64)                0         \n",
            "                                                                 \n",
            " dense_5 (Dense)             (None, 1)                 65        \n",
            "                                                                 \n",
            "=================================================================\n",
            "Total params: 9217 (36.00 KB)\n",
            "Trainable params: 9217 (36.00 KB)\n",
            "Non-trainable params: 0 (0.00 Byte)\n",
            "_________________________________________________________________\n"
          ]
        }
      ]
    },
    {
      "cell_type": "markdown",
      "source": [
        "Entrenar y evaluar con las modificaciones"
      ],
      "metadata": {
        "id": "IG2dI1KnG1on"
      }
    },
    {
      "cell_type": "code",
      "source": [
        "# Entrenar el modelo con más épocas\n",
        "history = model.fit(X_train_normalized, y_train, epochs=100, batch_size=128, validation_split=0.2)\n",
        "\n",
        "# Evaluar el modelo\n",
        "loss, accuracy = model.evaluate(X_test_normalized, y_test)\n",
        "print('Accuracy:', accuracy)\n"
      ],
      "metadata": {
        "colab": {
          "base_uri": "https://localhost:8080/"
        },
        "id": "B6Y-7eNJG4p8",
        "outputId": "66ff7cce-db5b-4293-9f11-4fe24c00d257"
      },
      "execution_count": 64,
      "outputs": [
        {
          "output_type": "stream",
          "name": "stdout",
          "text": [
            "Epoch 1/100\n",
            "1/1 [==============================] - 1s 1s/step - loss: 0.7809 - accuracy: 0.3333 - val_loss: 0.7289 - val_accuracy: 0.0000e+00\n",
            "Epoch 2/100\n",
            "1/1 [==============================] - 0s 43ms/step - loss: 0.7768 - accuracy: 0.1667 - val_loss: 0.7288 - val_accuracy: 0.0000e+00\n",
            "Epoch 3/100\n",
            "1/1 [==============================] - 0s 40ms/step - loss: 0.7903 - accuracy: 0.0000e+00 - val_loss: 0.7288 - val_accuracy: 0.0000e+00\n",
            "Epoch 4/100\n",
            "1/1 [==============================] - 0s 58ms/step - loss: 0.7306 - accuracy: 0.3333 - val_loss: 0.7289 - val_accuracy: 0.0000e+00\n",
            "Epoch 5/100\n",
            "1/1 [==============================] - 0s 53ms/step - loss: 0.8434 - accuracy: 0.0000e+00 - val_loss: 0.7289 - val_accuracy: 0.0000e+00\n",
            "Epoch 6/100\n",
            "1/1 [==============================] - 0s 56ms/step - loss: 0.7362 - accuracy: 0.1667 - val_loss: 0.7291 - val_accuracy: 0.0000e+00\n",
            "Epoch 7/100\n",
            "1/1 [==============================] - 0s 39ms/step - loss: 0.7075 - accuracy: 0.5000 - val_loss: 0.7291 - val_accuracy: 0.0000e+00\n",
            "Epoch 8/100\n",
            "1/1 [==============================] - 0s 67ms/step - loss: 0.8303 - accuracy: 0.1667 - val_loss: 0.7291 - val_accuracy: 0.0000e+00\n",
            "Epoch 9/100\n",
            "1/1 [==============================] - 0s 56ms/step - loss: 0.6896 - accuracy: 0.5000 - val_loss: 0.7291 - val_accuracy: 0.0000e+00\n",
            "Epoch 10/100\n",
            "1/1 [==============================] - 0s 39ms/step - loss: 0.7070 - accuracy: 0.3333 - val_loss: 0.7292 - val_accuracy: 0.0000e+00\n",
            "Epoch 11/100\n",
            "1/1 [==============================] - 0s 37ms/step - loss: 0.7613 - accuracy: 0.1667 - val_loss: 0.7291 - val_accuracy: 0.0000e+00\n",
            "Epoch 12/100\n",
            "1/1 [==============================] - 0s 38ms/step - loss: 0.8435 - accuracy: 0.0000e+00 - val_loss: 0.7292 - val_accuracy: 0.0000e+00\n",
            "Epoch 13/100\n",
            "1/1 [==============================] - 0s 37ms/step - loss: 0.7457 - accuracy: 0.3333 - val_loss: 0.7292 - val_accuracy: 0.0000e+00\n",
            "Epoch 14/100\n",
            "1/1 [==============================] - 0s 39ms/step - loss: 0.7947 - accuracy: 0.1667 - val_loss: 0.7292 - val_accuracy: 0.0000e+00\n",
            "Epoch 15/100\n",
            "1/1 [==============================] - 0s 55ms/step - loss: 0.8013 - accuracy: 0.1667 - val_loss: 0.7292 - val_accuracy: 0.0000e+00\n",
            "Epoch 16/100\n",
            "1/1 [==============================] - 0s 61ms/step - loss: 0.7974 - accuracy: 0.0000e+00 - val_loss: 0.7293 - val_accuracy: 0.0000e+00\n",
            "Epoch 17/100\n",
            "1/1 [==============================] - 0s 39ms/step - loss: 0.7672 - accuracy: 0.1667 - val_loss: 0.7293 - val_accuracy: 0.0000e+00\n",
            "Epoch 18/100\n",
            "1/1 [==============================] - 0s 39ms/step - loss: 0.8194 - accuracy: 0.1667 - val_loss: 0.7292 - val_accuracy: 0.0000e+00\n",
            "Epoch 19/100\n",
            "1/1 [==============================] - 0s 41ms/step - loss: 0.7585 - accuracy: 0.3333 - val_loss: 0.7293 - val_accuracy: 0.0000e+00\n",
            "Epoch 20/100\n",
            "1/1 [==============================] - 0s 44ms/step - loss: 0.8060 - accuracy: 0.0000e+00 - val_loss: 0.7293 - val_accuracy: 0.0000e+00\n",
            "Epoch 21/100\n",
            "1/1 [==============================] - 0s 42ms/step - loss: 0.6953 - accuracy: 0.6667 - val_loss: 0.7293 - val_accuracy: 0.0000e+00\n",
            "Epoch 22/100\n",
            "1/1 [==============================] - 0s 44ms/step - loss: 0.7333 - accuracy: 0.5000 - val_loss: 0.7293 - val_accuracy: 0.0000e+00\n",
            "Epoch 23/100\n",
            "1/1 [==============================] - 0s 65ms/step - loss: 0.7597 - accuracy: 0.1667 - val_loss: 0.7293 - val_accuracy: 0.0000e+00\n",
            "Epoch 24/100\n",
            "1/1 [==============================] - 0s 58ms/step - loss: 0.7375 - accuracy: 0.1667 - val_loss: 0.7293 - val_accuracy: 0.0000e+00\n",
            "Epoch 25/100\n",
            "1/1 [==============================] - 0s 47ms/step - loss: 0.7191 - accuracy: 0.5000 - val_loss: 0.7293 - val_accuracy: 0.0000e+00\n",
            "Epoch 26/100\n",
            "1/1 [==============================] - 0s 59ms/step - loss: 0.7505 - accuracy: 0.3333 - val_loss: 0.7293 - val_accuracy: 0.0000e+00\n",
            "Epoch 27/100\n",
            "1/1 [==============================] - 0s 62ms/step - loss: 0.7336 - accuracy: 0.3333 - val_loss: 0.7293 - val_accuracy: 0.0000e+00\n",
            "Epoch 28/100\n",
            "1/1 [==============================] - 0s 61ms/step - loss: 0.6788 - accuracy: 0.6667 - val_loss: 0.7294 - val_accuracy: 0.0000e+00\n",
            "Epoch 29/100\n",
            "1/1 [==============================] - 0s 60ms/step - loss: 0.7549 - accuracy: 0.1667 - val_loss: 0.7294 - val_accuracy: 0.0000e+00\n",
            "Epoch 30/100\n",
            "1/1 [==============================] - 0s 50ms/step - loss: 0.6945 - accuracy: 0.5000 - val_loss: 0.7294 - val_accuracy: 0.0000e+00\n",
            "Epoch 31/100\n",
            "1/1 [==============================] - 0s 67ms/step - loss: 0.7831 - accuracy: 0.1667 - val_loss: 0.7294 - val_accuracy: 0.0000e+00\n",
            "Epoch 32/100\n",
            "1/1 [==============================] - 0s 59ms/step - loss: 0.7780 - accuracy: 0.1667 - val_loss: 0.7295 - val_accuracy: 0.0000e+00\n",
            "Epoch 33/100\n",
            "1/1 [==============================] - 0s 45ms/step - loss: 0.7751 - accuracy: 0.0000e+00 - val_loss: 0.7295 - val_accuracy: 0.0000e+00\n",
            "Epoch 34/100\n",
            "1/1 [==============================] - 0s 64ms/step - loss: 0.7295 - accuracy: 0.5000 - val_loss: 0.7296 - val_accuracy: 0.0000e+00\n",
            "Epoch 35/100\n",
            "1/1 [==============================] - 0s 62ms/step - loss: 0.7811 - accuracy: 0.3333 - val_loss: 0.7297 - val_accuracy: 0.0000e+00\n",
            "Epoch 36/100\n",
            "1/1 [==============================] - 0s 45ms/step - loss: 0.7113 - accuracy: 0.5000 - val_loss: 0.7298 - val_accuracy: 0.0000e+00\n",
            "Epoch 37/100\n",
            "1/1 [==============================] - 0s 61ms/step - loss: 0.6970 - accuracy: 0.3333 - val_loss: 0.7299 - val_accuracy: 0.0000e+00\n",
            "Epoch 38/100\n",
            "1/1 [==============================] - 0s 60ms/step - loss: 0.7625 - accuracy: 0.3333 - val_loss: 0.7301 - val_accuracy: 0.0000e+00\n",
            "Epoch 39/100\n",
            "1/1 [==============================] - 0s 60ms/step - loss: 0.7472 - accuracy: 0.3333 - val_loss: 0.7302 - val_accuracy: 0.0000e+00\n",
            "Epoch 40/100\n",
            "1/1 [==============================] - 0s 42ms/step - loss: 0.7625 - accuracy: 0.3333 - val_loss: 0.7303 - val_accuracy: 0.0000e+00\n",
            "Epoch 41/100\n",
            "1/1 [==============================] - 0s 59ms/step - loss: 0.6951 - accuracy: 0.5000 - val_loss: 0.7305 - val_accuracy: 0.0000e+00\n",
            "Epoch 42/100\n",
            "1/1 [==============================] - 0s 40ms/step - loss: 0.7382 - accuracy: 0.3333 - val_loss: 0.7306 - val_accuracy: 0.0000e+00\n",
            "Epoch 43/100\n",
            "1/1 [==============================] - 0s 56ms/step - loss: 0.7296 - accuracy: 0.5000 - val_loss: 0.7307 - val_accuracy: 0.0000e+00\n",
            "Epoch 44/100\n",
            "1/1 [==============================] - 0s 41ms/step - loss: 0.7514 - accuracy: 0.1667 - val_loss: 0.7309 - val_accuracy: 0.0000e+00\n",
            "Epoch 45/100\n",
            "1/1 [==============================] - 0s 58ms/step - loss: 0.7088 - accuracy: 0.3333 - val_loss: 0.7310 - val_accuracy: 0.0000e+00\n",
            "Epoch 46/100\n",
            "1/1 [==============================] - 0s 50ms/step - loss: 0.7179 - accuracy: 0.1667 - val_loss: 0.7311 - val_accuracy: 0.0000e+00\n",
            "Epoch 47/100\n",
            "1/1 [==============================] - 0s 58ms/step - loss: 0.7256 - accuracy: 0.3333 - val_loss: 0.7311 - val_accuracy: 0.0000e+00\n",
            "Epoch 48/100\n",
            "1/1 [==============================] - 0s 40ms/step - loss: 0.6883 - accuracy: 0.5000 - val_loss: 0.7312 - val_accuracy: 0.0000e+00\n",
            "Epoch 49/100\n",
            "1/1 [==============================] - 0s 58ms/step - loss: 0.7371 - accuracy: 0.3333 - val_loss: 0.7312 - val_accuracy: 0.0000e+00\n",
            "Epoch 50/100\n",
            "1/1 [==============================] - 0s 38ms/step - loss: 0.6443 - accuracy: 0.8333 - val_loss: 0.7313 - val_accuracy: 0.0000e+00\n",
            "Epoch 51/100\n",
            "1/1 [==============================] - 0s 40ms/step - loss: 0.7016 - accuracy: 0.5000 - val_loss: 0.7313 - val_accuracy: 0.5000\n",
            "Epoch 52/100\n",
            "1/1 [==============================] - 0s 55ms/step - loss: 0.7613 - accuracy: 0.1667 - val_loss: 0.7314 - val_accuracy: 0.5000\n",
            "Epoch 53/100\n",
            "1/1 [==============================] - 0s 39ms/step - loss: 0.7382 - accuracy: 0.5000 - val_loss: 0.7314 - val_accuracy: 0.5000\n",
            "Epoch 54/100\n",
            "1/1 [==============================] - 0s 37ms/step - loss: 0.7498 - accuracy: 0.1667 - val_loss: 0.7314 - val_accuracy: 0.5000\n",
            "Epoch 55/100\n",
            "1/1 [==============================] - 0s 57ms/step - loss: 0.7183 - accuracy: 0.5000 - val_loss: 0.7314 - val_accuracy: 0.5000\n",
            "Epoch 56/100\n",
            "1/1 [==============================] - 0s 54ms/step - loss: 0.6698 - accuracy: 0.5000 - val_loss: 0.7314 - val_accuracy: 0.5000\n",
            "Epoch 57/100\n",
            "1/1 [==============================] - 0s 63ms/step - loss: 0.6507 - accuracy: 0.6667 - val_loss: 0.7314 - val_accuracy: 0.5000\n",
            "Epoch 58/100\n",
            "1/1 [==============================] - 0s 45ms/step - loss: 0.6962 - accuracy: 0.3333 - val_loss: 0.7314 - val_accuracy: 0.5000\n",
            "Epoch 59/100\n",
            "1/1 [==============================] - 0s 60ms/step - loss: 0.7003 - accuracy: 0.5000 - val_loss: 0.7315 - val_accuracy: 0.5000\n",
            "Epoch 60/100\n",
            "1/1 [==============================] - 0s 43ms/step - loss: 0.6923 - accuracy: 0.6667 - val_loss: 0.7316 - val_accuracy: 0.5000\n",
            "Epoch 61/100\n",
            "1/1 [==============================] - 0s 59ms/step - loss: 0.6955 - accuracy: 0.6667 - val_loss: 0.7317 - val_accuracy: 0.5000\n",
            "Epoch 62/100\n",
            "1/1 [==============================] - 0s 63ms/step - loss: 0.6999 - accuracy: 0.3333 - val_loss: 0.7318 - val_accuracy: 0.5000\n",
            "Epoch 63/100\n",
            "1/1 [==============================] - 0s 50ms/step - loss: 0.7065 - accuracy: 0.3333 - val_loss: 0.7319 - val_accuracy: 0.5000\n",
            "Epoch 64/100\n",
            "1/1 [==============================] - 0s 66ms/step - loss: 0.7110 - accuracy: 0.3333 - val_loss: 0.7321 - val_accuracy: 0.5000\n",
            "Epoch 65/100\n",
            "1/1 [==============================] - 0s 53ms/step - loss: 0.6388 - accuracy: 0.6667 - val_loss: 0.7322 - val_accuracy: 0.5000\n",
            "Epoch 66/100\n",
            "1/1 [==============================] - 0s 60ms/step - loss: 0.7011 - accuracy: 0.6667 - val_loss: 0.7323 - val_accuracy: 0.5000\n",
            "Epoch 67/100\n",
            "1/1 [==============================] - 0s 45ms/step - loss: 0.7636 - accuracy: 0.3333 - val_loss: 0.7324 - val_accuracy: 0.5000\n",
            "Epoch 68/100\n",
            "1/1 [==============================] - 0s 50ms/step - loss: 0.6925 - accuracy: 0.5000 - val_loss: 0.7326 - val_accuracy: 0.5000\n",
            "Epoch 69/100\n",
            "1/1 [==============================] - 0s 62ms/step - loss: 0.7046 - accuracy: 0.3333 - val_loss: 0.7327 - val_accuracy: 0.5000\n",
            "Epoch 70/100\n",
            "1/1 [==============================] - 0s 48ms/step - loss: 0.7153 - accuracy: 0.5000 - val_loss: 0.7328 - val_accuracy: 0.5000\n",
            "Epoch 71/100\n",
            "1/1 [==============================] - 0s 46ms/step - loss: 0.6786 - accuracy: 0.6667 - val_loss: 0.7329 - val_accuracy: 0.5000\n",
            "Epoch 72/100\n",
            "1/1 [==============================] - 0s 45ms/step - loss: 0.6698 - accuracy: 0.6667 - val_loss: 0.7330 - val_accuracy: 0.5000\n",
            "Epoch 73/100\n",
            "1/1 [==============================] - 0s 45ms/step - loss: 0.6273 - accuracy: 0.6667 - val_loss: 0.7332 - val_accuracy: 0.5000\n",
            "Epoch 74/100\n",
            "1/1 [==============================] - 0s 44ms/step - loss: 0.7058 - accuracy: 0.6667 - val_loss: 0.7333 - val_accuracy: 0.5000\n",
            "Epoch 75/100\n",
            "1/1 [==============================] - 0s 45ms/step - loss: 0.6980 - accuracy: 0.5000 - val_loss: 0.7334 - val_accuracy: 0.5000\n",
            "Epoch 76/100\n",
            "1/1 [==============================] - 0s 43ms/step - loss: 0.7251 - accuracy: 0.3333 - val_loss: 0.7335 - val_accuracy: 0.5000\n",
            "Epoch 77/100\n",
            "1/1 [==============================] - 0s 62ms/step - loss: 0.6762 - accuracy: 0.8333 - val_loss: 0.7336 - val_accuracy: 0.5000\n",
            "Epoch 78/100\n",
            "1/1 [==============================] - 0s 63ms/step - loss: 0.6161 - accuracy: 0.6667 - val_loss: 0.7338 - val_accuracy: 0.5000\n",
            "Epoch 79/100\n",
            "1/1 [==============================] - 0s 46ms/step - loss: 0.6838 - accuracy: 0.8333 - val_loss: 0.7339 - val_accuracy: 0.5000\n",
            "Epoch 80/100\n",
            "1/1 [==============================] - 0s 59ms/step - loss: 0.6644 - accuracy: 0.6667 - val_loss: 0.7341 - val_accuracy: 0.5000\n",
            "Epoch 81/100\n",
            "1/1 [==============================] - 0s 61ms/step - loss: 0.6020 - accuracy: 0.6667 - val_loss: 0.7343 - val_accuracy: 0.5000\n",
            "Epoch 82/100\n",
            "1/1 [==============================] - 0s 43ms/step - loss: 0.6682 - accuracy: 0.8333 - val_loss: 0.7344 - val_accuracy: 0.5000\n",
            "Epoch 83/100\n",
            "1/1 [==============================] - 0s 58ms/step - loss: 0.6836 - accuracy: 0.5000 - val_loss: 0.7346 - val_accuracy: 0.5000\n",
            "Epoch 84/100\n",
            "1/1 [==============================] - 0s 65ms/step - loss: 0.6560 - accuracy: 0.8333 - val_loss: 0.7348 - val_accuracy: 0.5000\n",
            "Epoch 85/100\n",
            "1/1 [==============================] - 0s 62ms/step - loss: 0.6719 - accuracy: 0.6667 - val_loss: 0.7350 - val_accuracy: 0.5000\n",
            "Epoch 86/100\n",
            "1/1 [==============================] - 0s 42ms/step - loss: 0.6136 - accuracy: 0.8333 - val_loss: 0.7351 - val_accuracy: 0.5000\n",
            "Epoch 87/100\n",
            "1/1 [==============================] - 0s 44ms/step - loss: 0.6626 - accuracy: 0.8333 - val_loss: 0.7353 - val_accuracy: 0.5000\n",
            "Epoch 88/100\n",
            "1/1 [==============================] - 0s 55ms/step - loss: 0.6659 - accuracy: 0.6667 - val_loss: 0.7355 - val_accuracy: 0.5000\n",
            "Epoch 89/100\n",
            "1/1 [==============================] - 0s 47ms/step - loss: 0.6238 - accuracy: 0.8333 - val_loss: 0.7357 - val_accuracy: 0.5000\n",
            "Epoch 90/100\n",
            "1/1 [==============================] - 0s 61ms/step - loss: 0.6798 - accuracy: 0.5000 - val_loss: 0.7359 - val_accuracy: 0.5000\n",
            "Epoch 91/100\n",
            "1/1 [==============================] - 0s 46ms/step - loss: 0.6411 - accuracy: 0.8333 - val_loss: 0.7361 - val_accuracy: 0.5000\n",
            "Epoch 92/100\n",
            "1/1 [==============================] - 0s 70ms/step - loss: 0.6142 - accuracy: 1.0000 - val_loss: 0.7363 - val_accuracy: 0.5000\n",
            "Epoch 93/100\n",
            "1/1 [==============================] - 0s 38ms/step - loss: 0.6307 - accuracy: 0.5000 - val_loss: 0.7364 - val_accuracy: 0.5000\n",
            "Epoch 94/100\n",
            "1/1 [==============================] - 0s 38ms/step - loss: 0.6374 - accuracy: 0.6667 - val_loss: 0.7366 - val_accuracy: 0.5000\n",
            "Epoch 95/100\n",
            "1/1 [==============================] - 0s 41ms/step - loss: 0.6958 - accuracy: 0.3333 - val_loss: 0.7368 - val_accuracy: 0.5000\n",
            "Epoch 96/100\n",
            "1/1 [==============================] - 0s 38ms/step - loss: 0.6187 - accuracy: 0.8333 - val_loss: 0.7370 - val_accuracy: 0.5000\n",
            "Epoch 97/100\n",
            "1/1 [==============================] - 0s 58ms/step - loss: 0.6350 - accuracy: 0.8333 - val_loss: 0.7373 - val_accuracy: 0.5000\n",
            "Epoch 98/100\n",
            "1/1 [==============================] - 0s 37ms/step - loss: 0.6218 - accuracy: 0.6667 - val_loss: 0.7376 - val_accuracy: 0.5000\n",
            "Epoch 99/100\n",
            "1/1 [==============================] - 0s 37ms/step - loss: 0.6660 - accuracy: 0.6667 - val_loss: 0.7378 - val_accuracy: 0.5000\n",
            "Epoch 100/100\n",
            "1/1 [==============================] - 0s 41ms/step - loss: 0.6582 - accuracy: 0.5000 - val_loss: 0.7381 - val_accuracy: 0.5000\n",
            "1/1 [==============================] - 0s 30ms/step - loss: 0.6578 - accuracy: 0.6667\n",
            "Accuracy: 0.6666666865348816\n"
          ]
        }
      ]
    },
    {
      "cell_type": "markdown",
      "source": [
        "Matriz de Confusion"
      ],
      "metadata": {
        "id": "b7EceSUPHAye"
      }
    },
    {
      "cell_type": "code",
      "source": [
        "# Realizar predicciones\n",
        "y_pred = model.predict(X_test_normalized)\n",
        "\n",
        "# Convertir las predicciones a etiquetas binarias\n",
        "y_pred_binary = (y_pred > 0.5).astype(int)\n",
        "\n",
        "# Calcular la matriz de confusión\n",
        "conf_matrix = confusion_matrix(y_test, y_pred_binary)\n",
        "\n",
        "# Mostrar la matriz de confusión\n",
        "print(\"Matriz de Confusión:\")\n",
        "print(conf_matrix)"
      ],
      "metadata": {
        "colab": {
          "base_uri": "https://localhost:8080/"
        },
        "id": "VYpS7rQLHC-1",
        "outputId": "968fc660-3b81-4743-d00c-66b4bf5c5a69"
      },
      "execution_count": 65,
      "outputs": [
        {
          "output_type": "stream",
          "name": "stdout",
          "text": [
            "1/1 [==============================] - 0s 68ms/step\n",
            "Matriz de Confusión:\n",
            "[[0 1]\n",
            " [0 2]]\n"
          ]
        }
      ]
    },
    {
      "cell_type": "markdown",
      "source": [
        "Nueva curva ROC"
      ],
      "metadata": {
        "id": "Yjs56AKYHHdd"
      }
    },
    {
      "cell_type": "code",
      "source": [
        "# Calcular la tasa de verdaderos positivos (TPR) y la tasa de falsos positivos (FPR) para la curva ROC\n",
        "fpr, tpr, thresholds = roc_curve(y_test, y_pred)\n",
        "roc_auc = auc(fpr, tpr)\n",
        "\n",
        "# Graficar la curva ROC\n",
        "plt.figure()\n",
        "plt.plot(fpr, tpr, color='darkorange', lw=2, label='Curva ROC (area = %0.2f)' % roc_auc)\n",
        "plt.plot([0, 1], [0, 1], color='navy', lw=2, linestyle='--')\n",
        "plt.xlim([0.0, 1.0])\n",
        "plt.ylim([0.0, 1.05])\n",
        "plt.xlabel('Tasa de Falsos Positivos (FPR)')\n",
        "plt.ylabel('Tasa de Verdaderos Positivos (TPR)')\n",
        "plt.title('Curva ROC')\n",
        "plt.legend(loc=\"lower right\")\n",
        "plt.show()"
      ],
      "metadata": {
        "colab": {
          "base_uri": "https://localhost:8080/",
          "height": 472
        },
        "id": "vWdadobYHJCa",
        "outputId": "ca069ad1-2ec7-4ccf-b81e-84cb61e62450"
      },
      "execution_count": 66,
      "outputs": [
        {
          "output_type": "display_data",
          "data": {
            "text/plain": [
              "<Figure size 640x480 with 1 Axes>"
            ],
            "image/png": "[encoded data removed]"
          },
          "metadata": {}
        }
      ]
    }
  ]
}